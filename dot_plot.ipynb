{
 "cells": [
  {
   "cell_type": "code",
   "execution_count": 7,
   "id": "a6ec35f7",
   "metadata": {},
   "outputs": [
    {
     "name": "stdout",
     "output_type": "stream",
     "text": [
      "Dash is running on http://127.0.0.1:8050/\n",
      "\n",
      " * Serving Flask app \"__main__\" (lazy loading)\n",
      " * Environment: production\n",
      "\u001b[31m   WARNING: This is a development server. Do not use it in a production deployment.\u001b[0m\n",
      "\u001b[2m   Use a production WSGI server instead.\u001b[0m\n",
      " * Debug mode: on\n"
     ]
    },
    {
     "ename": "SystemExit",
     "evalue": "1",
     "output_type": "error",
     "traceback": [
      "An exception has occurred, use %tb to see the full traceback.\n",
      "\u001b[1;31mSystemExit\u001b[0m\u001b[1;31m:\u001b[0m 1\n"
     ]
    },
    {
     "name": "stderr",
     "output_type": "stream",
     "text": [
      "C:\\Users\\Oleh.Koval\\Anaconda3\\lib\\site-packages\\IPython\\core\\interactiveshell.py:3465: UserWarning: To exit: use 'exit', 'quit', or Ctrl-D.\n",
      "  warn(\"To exit: use 'exit', 'quit', or Ctrl-D.\", stacklevel=1)\n"
     ]
    }
   ],
   "source": [
    "from dash import Dash, html, dcc, callback, Output, Input\n",
    "import plotly.express as px\n",
    "import pandas as pd\n",
    "\n",
    "# Завантаження даних\n",
    "df = pd.read_csv('ehr_684rows.csv')\n",
    "\n",
    "# Ініціалізація додатка Dash\n",
    "app = Dash(__name__)\n",
    "server = app.server\n",
    "\n",
    "# Оформлення макету\n",
    "app.layout = html.Div([\n",
    "    html.H1(children='Dot plot', style={'textAlign':'center'}),\n",
    "    dcc.Graph(id='graph-content')\n",
    "])\n",
    "\n",
    "# Callback для оновлення графіку\n",
    "@callback(\n",
    "    Output('graph-content', 'figure'),\n",
    "    Input('graph-content', 'id')  # Додаємо Input для активації callback\n",
    ")\n",
    "def dot(_):  # Параметр \"_\" щоб позначити невикористаний Input\n",
    "    # Обчислення кількості для віку\n",
    "    df['Count_вік'] = df.groupby('Вік').cumcount() + 1  # !!! \n",
    "    mx = df['Count_вік'].max()\n",
    "    mx_age = df['Вік'].max()\n",
    "    mn_age = df['Вік'].min()\n",
    "\n",
    "    # Створення графіку\n",
    "    fig = px.scatter(df, x='Вік', y='Count_вік')\n",
    "    # Настройка розміру точок\n",
    "    fig.update_traces(marker=dict(size=10)) \n",
    "    # Настройка осі Y для відображення лише цілих чисел\n",
    "    fig.update_yaxes(tickmode='linear', dtick=1)\n",
    "    # Настройка діапазону значень осі Y\n",
    "    fig.update_yaxes(range=[0, mx + 1])\n",
    "    # Настройка діапазону значень осі X\n",
    "    fig.update_xaxes(range=[mn_age - 1, mx_age + 1])\n",
    "\n",
    "    return fig\n",
    "\n",
    "# Запуск додатка\n",
    "if __name__ == '__main__':\n",
    "    app.run_server(debug=True)\n"
   ]
  },
  {
   "cell_type": "code",
   "execution_count": null,
   "id": "07539db3",
   "metadata": {},
   "outputs": [],
   "source": []
  }
 ],
 "metadata": {
  "kernelspec": {
   "display_name": "Python 3 (ipykernel)",
   "language": "python",
   "name": "python3"
  },
  "language_info": {
   "codemirror_mode": {
    "name": "ipython",
    "version": 3
   },
   "file_extension": ".py",
   "mimetype": "text/x-python",
   "name": "python",
   "nbconvert_exporter": "python",
   "pygments_lexer": "ipython3",
   "version": "3.9.13"
  }
 },
 "nbformat": 4,
 "nbformat_minor": 5
}
